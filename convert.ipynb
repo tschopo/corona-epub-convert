{
 "cells": [
  {
   "cell_type": "code",
   "execution_count": 1,
   "metadata": {},
   "outputs": [],
   "source": [
    "import os\n",
    "import fnmatch\n",
    "import shutil\n",
    "import xml.etree.ElementTree as ET\n",
    "import glob\n",
    "from xml.dom import minidom\n",
    "import re\n",
    "import subprocess"
   ]
  },
  {
   "cell_type": "code",
   "execution_count": 2,
   "metadata": {},
   "outputs": [],
   "source": [
    "def replaceAll(search, replace, reg = True, flags = re.I | re.M, no_titel = False, files = []):\n",
    "    \n",
    "    if not files:\n",
    "        files = glob.glob(\"new//OEBPS/*.xhtml\")\n",
    "    \n",
    "    for file in files:\n",
    "             \n",
    "        if file == \"new//OEBPS/toc.xhtml\" and not files:\n",
    "            continue\n",
    "        if no_titel:\n",
    "            if (file == \"new//OEBPS/toc.xhtml\") or (file == \"new//OEBPS/cover.xhtml\") or file == \"new//OEBPS/titel_und_titelei.xhtml\" or file == \"new//OEBPS/impressum.xhtml\":\n",
    "                print(file)\n",
    "                continue\n",
    "            \n",
    "        content_new = \"\"\n",
    "        with open (file, 'r' ) as f:\n",
    "            content = f.read()\n",
    "            \n",
    "            if reg:\n",
    "                content_new = re.sub(search, replace, content, flags = flags)\n",
    "            else:\n",
    "                content_new = content.replace(search, replace)\n",
    "\n",
    "        with open (file, 'w' ) as f:\n",
    "            f.write(content_new)"
   ]
  },
  {
   "cell_type": "code",
   "execution_count": 3,
   "metadata": {},
   "outputs": [],
   "source": [
    "old_epub = \"old.epub\"\n",
    "new_epub = \"new.epub\"\n",
    "auflage = \"5\"\n",
    "datum = \"21.10.2020\"\n"
   ]
  },
  {
   "cell_type": "code",
   "execution_count": 4,
   "metadata": {},
   "outputs": [],
   "source": [
    "d = datum.split(\".\")\n",
    "\n",
    "date = d[2]+\"-\"+d[1]+\"-\"+d[0]+\"T12:15:51+00:00\""
   ]
  },
  {
   "cell_type": "code",
   "execution_count": 5,
   "metadata": {},
   "outputs": [],
   "source": [
    "old_zip = os.path.splitext(old_epub)[0] + \".zip\"\n",
    "new_zip = os.path.splitext(new_epub)[0] + \".zip\"\n",
    "\n",
    "shutil.copy(new_epub, new_zip)\n",
    "shutil.copy(old_epub, old_zip)\n",
    "\n",
    "# extract the epubs\n",
    "os.system('unzip '+old_zip+' -d old')\n",
    "os.system('unzip '+new_zip+' -d new')\n",
    "\n",
    "os.remove(old_zip)\n",
    "os.remove(new_zip)"
   ]
  },
  {
   "cell_type": "code",
   "execution_count": 6,
   "metadata": {},
   "outputs": [],
   "source": [
    "# alle css dateien ersetzen\n",
    "old_css_files = os.listdir('old//OEBPS//css/')\n",
    "new_css_files = os.listdir('new//OEBPS//css/')"
   ]
  },
  {
   "cell_type": "code",
   "execution_count": 7,
   "metadata": {},
   "outputs": [],
   "source": [
    "# calibre bookmarks entfernen\n",
    "if os.path.exists('new//META-INF//calibre_bookmarks.txt'):\n",
    "    os.remove('new//META-INF//calibre_bookmarks.txt')"
   ]
  },
  {
   "cell_type": "code",
   "execution_count": 8,
   "metadata": {},
   "outputs": [],
   "source": [
    "shutil.rmtree('new//OEBPS//css/')\n",
    "shutil.copytree('old//OEBPS//css/', 'new//OEBPS//css/')\n",
    "\n",
    "# css dateien im header löschen\n",
    "for new_css_file in new_css_files:\n",
    "    if new_css_file not in old_css_files:\n",
    "        find = '<link href=\"css/'+new_css_file+'\" rel=\"stylesheet\" type=\"text/css\" />'\n",
    "        replaceAll(find,\"\", reg=False)"
   ]
  },
  {
   "cell_type": "code",
   "execution_count": 9,
   "metadata": {},
   "outputs": [],
   "source": [
    "# alle fonts ersetzen\n",
    "\n",
    "shutil.rmtree('new//OEBPS//font/')\n",
    "shutil.copytree('old//OEBPS//font/', 'new//OEBPS//font/')\n",
    "\n",
    "# encryption töten\n",
    "os.remove('new//META-INF//encryption.xml')"
   ]
  },
  {
   "cell_type": "code",
   "execution_count": 10,
   "metadata": {},
   "outputs": [
    {
     "data": {
      "text/plain": [
       "'new//OEBPS//impressum.xhtml'"
      ]
     },
     "execution_count": 10,
     "metadata": {},
     "output_type": "execute_result"
    }
   ],
   "source": [
    "# content.opf rübercopieren\n",
    "shutil.copy('old//OEBPS//content.opf', 'new//OEBPS//')\n",
    "\n",
    "# titel_und_titelei.xhtml und toc rübercopieren\n",
    "shutil.copy('old//OEBPS//titel_und_titelei.xhtml', 'new//OEBPS//')\n",
    "shutil.copy('old//OEBPS//toc.ncx', 'new//OEBPS//')\n",
    "shutil.copy('old//OEBPS//toc.xhtml', 'new//OEBPS//')\n",
    "\n",
    "shutil.copy('old//OEBPS//impressum.xhtml', 'new//OEBPS//')"
   ]
  },
  {
   "cell_type": "code",
   "execution_count": 11,
   "metadata": {},
   "outputs": [
    {
     "data": {
      "text/plain": [
       "'new//OEBPS//image//1.jpg'"
      ]
     },
     "execution_count": 11,
     "metadata": {},
     "output_type": "execute_result"
    }
   ],
   "source": [
    "# images folder erstetzen. titelbild austauschen\n",
    "shutil.copy('new//OEBPS//image//1.png', 'new//OEBPS//')\n",
    "\n",
    "shutil.rmtree('new//OEBPS//image/')\n",
    "shutil.copytree('old//OEBPS//image/', 'new//OEBPS//image/')\n",
    "\n",
    "# titelbild zu jpg umwandeln\n",
    "os.system('convert new/OEBPS/1.png new/OEBPS/1.jpg')\n",
    "\n",
    "os.remove('new//OEBPS//image//1.jpg')\n",
    "os.remove('new//OEBPS//1.png')\n",
    "\n",
    "shutil.move('new//OEBPS//1.jpg', 'new//OEBPS//image//1.jpg')    "
   ]
  },
  {
   "cell_type": "code",
   "execution_count": 12,
   "metadata": {},
   "outputs": [],
   "source": [
    "# bilder dateiendungen ersetzen\n",
    "\n",
    "for image in os.listdir('new//OEBPS//image/'):\n",
    "    if fnmatch.fnmatch(image, '*.png'):\n",
    "        \n",
    "        # get filename withou extension\n",
    "        name = os.path.splitext(image)[0]\n",
    "        \n",
    "        # replace in all files with the jpg version\n",
    "        replaceAll(name+\".jpg\", image)\n",
    "        \n",
    "    if fnmatch.fnmatch(image, '*.jpg'):\n",
    "\n",
    "        # get filename withou extension\n",
    "        name = os.path.splitext(image)[0]\n",
    "\n",
    "        # replace in all files with the png version\n",
    "        replaceAll(name+\".png\", image)"
   ]
  },
  {
   "cell_type": "code",
   "execution_count": 13,
   "metadata": {},
   "outputs": [
    {
     "name": "stdout",
     "output_type": "stream",
     "text": [
      "new//OEBPS/cover.xhtml\n",
      "new//OEBPS/impressum.xhtml\n",
      "new//OEBPS/titel_und_titelei.xhtml\n",
      "new//OEBPS/toc.xhtml\n",
      "new//OEBPS/cover.xhtml\n",
      "new//OEBPS/impressum.xhtml\n",
      "new//OEBPS/titel_und_titelei.xhtml\n",
      "new//OEBPS/toc.xhtml\n",
      "new//OEBPS/cover.xhtml\n",
      "new//OEBPS/impressum.xhtml\n",
      "new//OEBPS/titel_und_titelei.xhtml\n",
      "new//OEBPS/toc.xhtml\n",
      "new//OEBPS/cover.xhtml\n",
      "new//OEBPS/impressum.xhtml\n",
      "new//OEBPS/titel_und_titelei.xhtml\n",
      "new//OEBPS/toc.xhtml\n"
     ]
    }
   ],
   "source": [
    "find=r'<span class=\"Zitat_Anfuehrungszeichen _idGenCharOverride-\\d+\">„</span>'\n",
    "replace='„'\n",
    "replaceAll(find,replace, no_titel=True)\n",
    "\n",
    "#anführungszeichen bei zitat nahc oben\n",
    "find=r'<div id=\"_idContainer\\d+\" class=\"Zitat_Anfuehrungszeichen\">\\s*<p class=\"p_Zitat_Anfuehrungszeichen\">„</p>\\s*</div>'\n",
    "replace=r''\n",
    "replaceAll(find,replace, no_titel=True)\n",
    "\n",
    "# zitat zu blockquote convertieren\n",
    "find=r'<div id=\"(_idContainer\\d\\d\\d)\" class=\"Zitat\">(.+?)</div>'\n",
    "replace=r'<blockquote id=\"\\1\" class=\"Zitat\">\\2</blockquote>'\n",
    "replaceAll(find,replace, flags=re.I | re.M | re.S, no_titel=True)\n",
    "\n",
    "find='class=\"Zitat\">'\n",
    "replace = 'class=\"Zitat\">\\n\\t\\t\\t\\t\\t<div class=\"Zitat_Anfuehrungszeichen\">\\n\\t\\t\\t\\t\\t\\t<p class=\"p_Zitat_Anfuehrungszeichen\">„</p>\\n\\t\\t\\t\\t\\t</div>'\n",
    "replaceAll(find,replace,reg=False, no_titel=True)"
   ]
  },
  {
   "cell_type": "code",
   "execution_count": 14,
   "metadata": {},
   "outputs": [
    {
     "name": "stdout",
     "output_type": "stream",
     "text": [
      "new//OEBPS/cover.xhtml\n",
      "new//OEBPS/impressum.xhtml\n",
      "new//OEBPS/titel_und_titelei.xhtml\n",
      "new//OEBPS/toc.xhtml\n",
      "new//OEBPS/cover.xhtml\n",
      "new//OEBPS/impressum.xhtml\n",
      "new//OEBPS/titel_und_titelei.xhtml\n",
      "new//OEBPS/toc.xhtml\n"
     ]
    }
   ],
   "source": [
    "#add media.css\n",
    "replaceAll('</title>','</title>\\n\\n\\t\\t<link href=\"css/media.css\" rel=\"stylesheet\" type=\"text/css\" />', reg=False, no_titel= True)\n",
    "#add covid.css\n",
    "\n",
    "replaceAll('</title>','</title>\\n\\n\\t\\t<link href=\"css/COVID.css\" rel=\"stylesheet\" type=\"text/css\" />', reg=False, no_titel= True)\n",
    "\n"
   ]
  },
  {
   "cell_type": "code",
   "execution_count": null,
   "metadata": {},
   "outputs": [],
   "source": []
  },
  {
   "cell_type": "code",
   "execution_count": 15,
   "metadata": {},
   "outputs": [
    {
     "name": "stdout",
     "output_type": "stream",
     "text": [
      "new//OEBPS/cover.xhtml\n",
      "new//OEBPS/impressum.xhtml\n",
      "new//OEBPS/titel_und_titelei.xhtml\n",
      "new//OEBPS/toc.xhtml\n",
      "new//OEBPS/cover.xhtml\n",
      "new//OEBPS/impressum.xhtml\n",
      "new//OEBPS/titel_und_titelei.xhtml\n",
      "new//OEBPS/toc.xhtml\n",
      "new//OEBPS/cover.xhtml\n",
      "new//OEBPS/impressum.xhtml\n",
      "new//OEBPS/titel_und_titelei.xhtml\n",
      "new//OEBPS/toc.xhtml\n",
      "new//OEBPS/cover.xhtml\n",
      "new//OEBPS/impressum.xhtml\n",
      "new//OEBPS/titel_und_titelei.xhtml\n",
      "new//OEBPS/toc.xhtml\n",
      "new//OEBPS/cover.xhtml\n",
      "new//OEBPS/impressum.xhtml\n",
      "new//OEBPS/titel_und_titelei.xhtml\n",
      "new//OEBPS/toc.xhtml\n",
      "new//OEBPS/cover.xhtml\n",
      "new//OEBPS/impressum.xhtml\n",
      "new//OEBPS/titel_und_titelei.xhtml\n",
      "new//OEBPS/toc.xhtml\n",
      "new//OEBPS/cover.xhtml\n",
      "new//OEBPS/impressum.xhtml\n",
      "new//OEBPS/titel_und_titelei.xhtml\n",
      "new//OEBPS/toc.xhtml\n"
     ]
    }
   ],
   "source": [
    "# h2,h3,h4,h5 mit h1,h2,h2,h3 ersetzen\n",
    "find = r'<h2(.+?)</h2>'\n",
    "replace = r'<xxxh1\\1</xxxh1>'\n",
    "replaceAll(find,replace, flags=re.I | re.M | re.S, no_titel = True)\n",
    "\n",
    "find = r'<h3(.+?)</h3>'\n",
    "replace = r'<xxxh2\\1</xxxh2>'\n",
    "replaceAll(find,replace, flags=re.I | re.M | re.S, no_titel = True)\n",
    "\n",
    "find = r'<h4(.+?)</h4>'\n",
    "replace = r'<xxxh2\\1</xxxh2>'\n",
    "replaceAll(find,replace, flags=re.I | re.M | re.S, no_titel = True)\n",
    "\n",
    "find = r'<h5(.+?)</h5>'\n",
    "replace = r'<xxxh3\\1</xxxh3>'\n",
    "replaceAll(find,replace, flags=re.I | re.M | re.S, no_titel = True)\n",
    "\n",
    "#und dann xxxh1 mit h1 ersetzen\n",
    "find = 'xxxh1'\n",
    "replace = 'h1'\n",
    "replaceAll(find,replace, reg=False, no_titel = True)\n",
    "\n",
    "find = 'xxxh2'\n",
    "replace = 'h2'\n",
    "replaceAll(find,replace, reg=False, no_titel = True)\n",
    "\n",
    "find = 'xxxh3'\n",
    "replace = 'h3'\n",
    "replaceAll(find,replace, reg=False, no_titel = True)"
   ]
  },
  {
   "cell_type": "code",
   "execution_count": 16,
   "metadata": {},
   "outputs": [],
   "source": [
    "\n",
    "#fragezeichen tauschen + vereinfachen (vll dreht indesign undeterministisch manchmal um)\n",
    "find = r'<div class=\"_idGenObjectLayout-\\d+\">\\s*<div id=\"_idContainer\\d+\" class=\"Grafik_Fragezeichen _idGenObjectStyle-Disabled _idGenWritingDirection-1\">\\s*<div id=\"_idContainer\\d+\" class=\"Grafik_Fragezeichen\">\\s*<p class=\"p_STANDARD\"><span class=\"Fragezeichen_rot _idGenCharOverride-\\d+\">\\?</span></p>\\s*</div>\\s*<div id=\"_idContainer\\d+\" class=\"Grafik_Fragezeichen\">\\s*<p class=\"p_STANDARD\"><span class=\"Fragezeichen_gruen _idGenCharOverride-\\d+\">\\?</span></p>\\s*</div>\\s*</div>\\s*</div>'\n",
    "replace = r'<div class=\"fragezeichen-grafik-wrapper\">\\n\\t\\t\\t\\t<div class=\"fragezeichen-rot\">?</div>\\n\\t\\t\\t\\t<div class=\"fragezeichen-gruen\">?</div>\\n\\t\\t\\t</div>'\n",
    "replaceAll(find,replace)\n",
    "\n",
    "find = r'<div class=\"_idGenObjectLayout-\\d+\">\\s*<div id=\"_idContainer\\d+\" class=\"Grafik_Fragezeichen _idGenObjectStyle-Disabled _idGenWritingDirection-1\">\\s*<div id=\"_idContainer\\d+\" class=\"Grafik_Fragezeichen\">\\s*<p class=\"p_STANDARD\"><span class=\"Fragezeichen_gruen _idGenCharOverride-\\d+\">\\?</span></p>\\s*</div>\\s*<div id=\"_idContainer\\d+\" class=\"Grafik_Fragezeichen\">\\s*<p class=\"p_STANDARD\"><span class=\"Fragezeichen_rot _idGenCharOverride-\\d+\">\\?</span></p>\\s*</div>\\s*</div>\\s*</div>'\n",
    "replace = r'<div class=\"fragezeichen-grafik-wrapper\">\\n\\t\\t\\t\\t<div class=\"fragezeichen-rot\">?</div>\\n\\t\\t\\t\\t<div class=\"fragezeichen-gruen\">?</div>\\n\\t\\t\\t</div>'\n",
    "replaceAll(find,replace)"
   ]
  },
  {
   "cell_type": "code",
   "execution_count": 17,
   "metadata": {},
   "outputs": [],
   "source": [
    "find = r'<div id=\"_idContainer\\d+\" class=\"Wellenlinie\"><img class=\"_idGenObjectAttribute-\\d+\" src=\"image/wavy_line-ocker.png\" alt=\"\" /></div>'\n",
    "replace =  r'<div class=\"wellenlinie-ocker\"></div>'\n",
    "replaceAll(find,replace)\n",
    "\n",
    "# wellenlinie als hintergrund und repeatable\n",
    "find = r'<div class=\"_idGenObjectLayout-\\d+\">\\s*<div id=\"_idContainer\\d+\" class=\"Wellenlinie\">\\s*<img class=\"_idGenObjectAttribute-\\d+\" src=\"image/wavy_line.png\" alt=\"\" />\\s*</div>\\s*</div>'\n",
    "replace = r'<div class=\"wellenlinie\"></div>'\n",
    "replaceAll(find,replace)\n",
    "\n",
    "# manchmla auch ohne klasse\n",
    "find = r'<div class=\"_idGenObjectLayout-\\d+\">\\s*<div id=\"_idContainer\\d+\">\\s*<img class=\"_idGenObjectAttribute-\\d+\" src=\"image/wavy_line.png\" alt=\"\" />\\s*</div>\\s*</div>'\n",
    "replace = r'<div class=\"wellenlinie\"></div>'\n",
    "replaceAll(find,replace)\n",
    "\n",
    "# ocker\n",
    "find = r'<div class=\"_idGenObjectLayout-\\d+\">\\s*<div id=\"_idContainer\\d+\" class=\"Wellenlinie\">\\s*<img class=\"_idGenObjectAttribute-\\d+\" src=\"image/wavy_line-ocker.png\" alt=\"\" />\\s*</div>\\s*</div>'\n",
    "replace = r'<div class=\"wellenlinie-ocker\"></div>'\n",
    "replaceAll(find,replace)\n",
    "\n",
    "# manchmla auch ohne klasse\n",
    "find = r'<div class=\"_idGenObjectLayout-\\d+\">\\s*<div id=\"_idContainer\\d+\">\\s*<img class=\"_idGenObjectAttribute-\\d+\" src=\"image/wavy_line-ocker.png\" alt=\"\" />\\s*</div>\\s*</div>'\n",
    "replace = r'<div class=\"wellenlinie\"></div>'\n",
    "replaceAll(find,replace)"
   ]
  },
  {
   "cell_type": "code",
   "execution_count": 18,
   "metadata": {},
   "outputs": [],
   "source": [
    "# fragezeichen nach linie statt davor\n",
    "find = r'<div class=\"fragezeichen-grafik-wrapper\">\\s*<div class=\"fragezeichen-rot\">\\?</div>\\s*<div class=\"fragezeichen-gruen\">\\?</div>\\s*</div>\\s*<div class=\"wellenlinie\"></div>'\n",
    "replace = '<div class=\"wellenlinie\"></div>\\n\\t\\t\\t<div class=\"fragezeichen-grafik-wrapper\">\\n\\t\\t\\t\\t<div class=\"fragezeichen-rot\">?</div>\\n\\t\\t\\t\\t<div class=\"fragezeichen-gruen\">?</div>\\n\\t\\t</div>'\n",
    "replaceAll(find,replace)"
   ]
  },
  {
   "cell_type": "code",
   "execution_count": 19,
   "metadata": {},
   "outputs": [],
   "source": [
    "# XXX nur diese auflage\n",
    "\n",
    "# kap 1 fehler h5 absatz\n",
    "find = '<h3 class=\"H5\"><a id=\"_idTextAnchor029\"></a><span class=\"CharOverride-9\">Wie lange ein solcher'\n",
    "replace = '<p class=\"p_STANDARD\"><a id=\"_idTextAnchor029\"></a><span class=\"CharOverride-9\">Wie lange ein solcher'\n",
    "replaceAll(find,replace, reg=False)\n",
    "\n",
    "find = 'allenfalls lückenhaft sein). </span></h3>'\n",
    "replace = 'allenfalls lückenhaft sein). </span></p>'\n",
    "replaceAll(find,replace, reg=False)"
   ]
  },
  {
   "cell_type": "code",
   "execution_count": 20,
   "metadata": {},
   "outputs": [],
   "source": [
    "# insert pagebreaks before anmerkungen\n",
    "find = r'<div id=\"_idContainer\\d\\d\\d\" class=\"Basic-Text-Frame\">\\s*<h2 class=\"H4\">'\n",
    "replace = '<div class=\"Basic-Text-Frame\" style=\"page-break-before: always;\">\\n\\t\\t\\t<h2 class=\"H4\">'\n",
    "replaceAll(find,replace)"
   ]
  },
  {
   "cell_type": "code",
   "execution_count": 21,
   "metadata": {},
   "outputs": [],
   "source": [
    "find = '_id'\n",
    "replace = 'id'\n",
    "replaceAll(find,replace, reg=False)"
   ]
  },
  {
   "cell_type": "code",
   "execution_count": 22,
   "metadata": {},
   "outputs": [],
   "source": [
    "# copyright images nicht als bild\n",
    "\n",
    "find=r'<h3 class=\"H5\">\\s*<img class=\"idGenObjectAttribute-9\" src=\"image/2.png\" alt=\"\"\\s*/>\\s*</h3>'\n",
    "replace='<p class=\"Bildunterschriften\">© Holly (flickr.com/photos/37586339@N00/7075468) Lizenz: <a href=\"https://creativecommons.org/licenses/by/2.0/\">CC BY 2.0</a></p>'\n",
    "replaceAll(find,replace)\n",
    "\n",
    "\n",
    "find = '<p class=\"p_STANDARD\"><span class=\"Hyperlink\"><img class=\"idGenObjectAttribute-6\" src=\"image/3.png\" alt=\"\" /></span></p>'\n",
    "replace = '<p class=\"Bildunterschriften\"> © Ausschnitt aus dem Buch: <i>Gesundheit für Kinder – Kinderkrankheiten verhüten, erkennen, behandeln.</i> Von Herbert Renz-Polster, Nicole Menche und Arne Schäffler. 12. Auflage 2020, © Kösel Verlag</p>'\n",
    "replaceAll(find,replace, reg=False)"
   ]
  },
  {
   "cell_type": "code",
   "execution_count": 23,
   "metadata": {},
   "outputs": [],
   "source": [
    "# fix backling urls\n",
    "\n",
    "find = r'endnote-(\\d\\d\\d)-backlink-\\d'\n",
    "replace = r'endnote-\\1-backlink'\n",
    "replaceAll(find,replace)\n",
    "\n",
    "find = r'endnote-(\\d\\d\\d)-\\d'\n",
    "replace = r'endnote-\\1'\n",
    "replaceAll(find,replace)"
   ]
  },
  {
   "cell_type": "code",
   "execution_count": 24,
   "metadata": {},
   "outputs": [],
   "source": [
    "# endnotemarker\n",
    "\n",
    "find = r'<span class=\"Endnotenmarker idGenCharOverride-1\"><span id=\"endnote-(\\d\\d\\d)-backlink\"><a class=\"idEndnoteLink idGenColorInherit\" href=\"#endnote-\\d\\d\\d\">(\\d+)</a></span></span>'\n",
    "replace = r'<a epub:type=\"noteref\" class=\"idEndnoteLink idGenColorInherit\" href=\"#endnote-\\1\" id=\"endnote-\\1-backlink\"> [\\2] </a>'\n",
    "replaceAll(find,replace)"
   ]
  },
  {
   "cell_type": "code",
   "execution_count": 25,
   "metadata": {},
   "outputs": [],
   "source": [
    "# footnotes\n",
    "\n",
    "find = r'<p class=\"p_Anmerkungen\"><span id=\"endnote-(\\d\\d\\d)\"><a class=\"idEndnoteAnchor idGenColorInherit\" href=\"#endnote-\\d\\d\\d-backlink\">(\\d+)</a>'\n",
    "replace = r'<aside epub:type=\"rearnote\" class=\"p_Anmerkungen\" id=\"endnote-\\1\"><p><span><a class=\"idEndnoteAnchor idGenColorInherit\" href=\"#endnote-\\1-backlink\"> [<span class=\"endnote-u\">\\2</span>] </a>'\n",
    "replaceAll(find,replace)"
   ]
  },
  {
   "cell_type": "code",
   "execution_count": 26,
   "metadata": {},
   "outputs": [],
   "source": [
    "find = r'</p>\\s*<aside epub:type'\n",
    "replace = '</p></aside>\\n\\t\\t\\t<aside epub:type'\n",
    "replaceAll(find,replace)"
   ]
  },
  {
   "cell_type": "code",
   "execution_count": 27,
   "metadata": {},
   "outputs": [],
   "source": [
    "for file in glob.glob(\"new//OEBPS/*.xhtml\"):\n",
    "        \n",
    "        if file == \"new//OEBPS/toc.xhtml\" or file == \"new//OEBPS/cover.xhtml\" or file == \"new//OEBPS/titel_und_titelei.xhtml\" or file == \"new//OEBPS/impressum.xhtml\":\n",
    "            continue\n",
    "            \n",
    "        content_new = \"\"\n",
    "        with open (file, 'r' ) as f:\n",
    "            content = f.read()\n",
    "            \n",
    "            content_new = re.sub(r'</p>\\s*</div>\\s*</body>', '</p></aside>\\n\\t\\t</div>\\n\\t</body>', content, flags = re.I | re.M)\n",
    "\n",
    "        with open (file, 'w' ) as f:\n",
    "            f.write(content_new)"
   ]
  },
  {
   "cell_type": "code",
   "execution_count": 28,
   "metadata": {},
   "outputs": [],
   "source": [
    "files = glob.glob(\"new//OEBPS/*.xhtml\")\n",
    "files.append('new//OEBPS/content.opf')\n",
    "files.append('new//OEBPS/toc.ncx')\n",
    "\n",
    "for file in files:\n",
    "                  \n",
    "        content_new = \"\"\n",
    "        with open (file, 'r' ) as f:\n",
    "            content = f.read()\n",
    "            \n",
    "            content = re.sub(r'Kapitel-(\\d)-1.xhtml', r'Kapitel-\\1.xhtml', content, flags = re.I | re.M)\n",
    "            content = re.sub(r'<item id=\"Kapitel-\\d-1\" href=\"Kapitel-\\d.xhtml\" media-type=\"application/xhtml\\+xml\"/>', '', content, flags = re.I | re.M)\n",
    "\n",
    "            \n",
    "            find = r'Alles über Corona \\(\\d+\\. Auflage\\)'\n",
    "            replace = 'Alles über Corona ('+auflage+'. Auflage)'\n",
    "            content = re.sub(find, replace, content, flags = re.I | re.M)\n",
    "\n",
    "            find = r'<dc:date>\\d\\d\\d\\d-\\d\\d-\\d\\dT\\d\\d:\\d\\d:\\d\\d\\+\\d\\d:\\d\\d</dc:date>'\n",
    "            replace = '<dc:date>'+date+'</dc:date>'\n",
    "            content = re.sub(find, replace, content, flags = re.I | re.M)\n",
    "            \n",
    "            find = r'<itemref idref=\"Kapitel-\\d+-\\d\"\\s*/>'\n",
    "            replace = ''\n",
    "            content = re.sub(find, replace, content, flags = re.I | re.M)\n",
    "        with open (file, 'w' ) as f:\n",
    "            f.write(content)"
   ]
  },
  {
   "cell_type": "code",
   "execution_count": 29,
   "metadata": {},
   "outputs": [],
   "source": [
    "find = r'\\s*<div class=\"fragezeichen-grafik-wrapper\">\\s*<div class=\"fragezeichen-rot\">\\?</div>\\s*<div class=\"fragezeichen-gruen\">\\?</div>\\s*</div>\\s*<h3 class=\"H5_Frage\">Kann ich dieses eBook umsonst herunterladen\\?</h3>.*?/corona-ebook</span></a></p>'\n",
    "replaceAll(find,'', flags=re.I | re.M | re.S)"
   ]
  },
  {
   "cell_type": "code",
   "execution_count": 30,
   "metadata": {},
   "outputs": [],
   "source": [
    "find = '<span class=\"Endnotenmarker CharOverride-3\"><span id=\"endnote-001-backlink\"><a class=\"idEndnoteLink idGenColorInherit\" href=\"#endnote-001\">1</a></span></span>'\n",
    "replace = '<a epub:type=\"noteref\" class=\"idEndnoteLink idGenColorInherit\" href=\"#endnote-001\" id=\"endnote-001-backlink\"> [1] </a>'\n",
    "replaceAll(find,replace, reg=False)"
   ]
  },
  {
   "cell_type": "code",
   "execution_count": 31,
   "metadata": {},
   "outputs": [],
   "source": [
    "# im impressum auflage und datum updaten\n",
    "find = r'Alles über Corona, \\d+\\. Auflage, \\d\\d\\.\\d\\d\\.\\d\\d\\d\\d\\.'\n",
    "replace = 'Alles über Corona, '+auflage+'. Auflage, '+datum\n",
    "replaceAll(find,replace)\n",
    "    \n",
    "find = r'Herbert Renz-Polster: Alles über Corona\\. Was Du wissen musst\\. Was du tun kannst. \\d+\\. Auflage\\.'\n",
    "replace = 'Herbert Renz-Polster: Alles über Corona. Was Du wissen musst. Was du tun kannst. '+auflage+'. Auflage.'\n",
    "replaceAll(find,replace)"
   ]
  },
  {
   "cell_type": "code",
   "execution_count": 32,
   "metadata": {},
   "outputs": [],
   "source": [
    "# schwäne kap 4 illu nicht vorhanden\n",
    "find = 'Illustration Kapitel 4 (</span><a href=\"Kapitel-4-1.xhtml#idTextAnchor059\"><span class=\"CharOverride-10\">Seite </span><span class=\"CharOverride-10\">73</span></a><span class=\"CharOverride-10\">): Marc Robitzky, aus Renz/Robitzky: Die wilden Schwäne. Zweisprachiges Kinderbuch nach einem Märchen von Hans Christian Andersen. www.sefa-bilingual.com.'\n",
    "replace = ''\n",
    "replaceAll(find, replace, reg=False)\n",
    "\n",
    "# kap 4 anfang deswegen verschoben\n",
    "find = 'Kapitel-4.xhtml#idTextAnchor112'\n",
    "replace = 'Kapitel-4.xhtml#idTextAnchor056'\n",
    "replaceAll(find, replace, reg=False)\n",
    "\n",
    "# eliah reference einfügen für impressum\n",
    "\n",
    "find = 'Kapitel-4.xhtml#idTextAnchor112'\n",
    "replace = 'Kapitel-4.xhtml#idTextAnchor056'\n",
    "replaceAll(find, replace, reg=False)\n",
    "\n",
    "find = 'Kapitel-4.xhtml#idContainer169'\n",
    "replace = 'Kapitel-4.xhtml#idAnchor001'\n",
    "replaceAll(find, replace, reg=False)\n",
    "\n",
    "find = '<img class=\"idGenObjectAttribute-4\" src=\"image/eliah.jpg\" alt=\"\" />'\n",
    "replace = '<a id=\"idAnchor001\"></a><img class=\"idGenObjectAttribute-4\" src=\"image/eliah.jpg\" alt=\"\" />'\n",
    "replaceAll(find, replace, reg=False)\n",
    "\n",
    "# fix toc\n",
    "find = '#toc_1'\n",
    "f = ['new//OEBPS/toc.ncx', 'new//OEBPS/toc.xhtml']\n",
    "replaceAll(find, '', reg=False, files=f)"
   ]
  },
  {
   "cell_type": "code",
   "execution_count": 33,
   "metadata": {},
   "outputs": [],
   "source": [
    "# komische zeichen\n",
    "\n",
    "find = '&#9;'\n",
    "replace = ' '\n",
    "replaceAll(find,replace, reg=False)\n",
    "\n",
    "find = '&#160;'\n",
    "replace = ' '\n",
    "replaceAll(find,replace, reg=False)\n",
    "\n",
    "find = ' ",
    "'\n",
    "replace = ' '\n",
    "replaceAll(find,replace, reg=False)"
   ]
  },
  {
   "cell_type": "code",
   "execution_count": 34,
   "metadata": {},
   "outputs": [],
   "source": [
    "# bad nyt links\n",
    "find = '?action=click&amp;module=Opinion&amp;pgtype=Homepage'\n",
    "replace = ''\n",
    "replaceAll(find,replace, reg=False)\n",
    "\n",
    "find = '?action=click&amp;module=Top%20Stories&amp;pgtype=Homepage'\n",
    "replace = ''\n",
    "replaceAll(find,replace, reg=False)\n",
    "\n",
    "\n",
    "find = 'http://www.gbe-bund.de/oowa921-install/servlet/oowa/aw92/dboowasys921.xwdevkit/xwd_init?gbe.isgbetol/xs_start_neu/&amp;p_aid=3&amp;p_aid=46516668&amp;nummer=524&amp;p_sprache=D&amp;p_indsp=-&amp;p_aid=41622080'\n",
    "replace = '<a href=\"http://www.gbe-bund.de/oowa921-install/servlet/oowa/aw92/dboowasys921.xwdevkit/xwd_init?gbe.isgbetol/xs_start_neu/&amp;p_aid=3&amp;p_aid=46516668&amp;nummer=524&amp;p_sprache=D&amp;p_indsp=-&amp;p_aid=41622080\">www.gbe-bund.de/oowa921-install/servlet/oowa/aw92/dboowasys921.xwdevkit/xwd_init?gbe.isgbetol/xs_start_neu/&amp;p_aid=3&amp;p_aid=46516668&amp;nummer=524&amp;p_sprache=D&amp;p_indsp=-&amp;p_aid=41622080</a>'\n",
    "replaceAll(find,replace, reg=False)"
   ]
  },
  {
   "cell_type": "code",
   "execution_count": null,
   "metadata": {},
   "outputs": [],
   "source": []
  },
  {
   "cell_type": "code",
   "execution_count": 35,
   "metadata": {},
   "outputs": [],
   "source": [
    "# replace all urls with that dont start with \"\n",
    "reg1 = r'(?<!\\\")(https?:\\/\\/(?:(?:https?|ftp|file):\\/\\/|www\\.|ftp\\.)(?:\\([-A-Z0-9+&@#\\/%=~_|$?!:,.]*\\)|[-A-Z0-9+&@#\\/%=~_|$?!:,.])*(?:\\([-A-Z0-9+&@#\\/%=~_|$?!:,.]*\\)|[A-Z0-9+&@#\\/%=~_|$]))'\n",
    "find = r'(?<!\\\")((http|ftp|https)://([\\w_-]+(?:(?:\\.[\\w_-]+)+))([\\w.,@?^=%&:/~+#-]*[\\w@?^=%&/~+#-])?)'   \n",
    "replace = r'<a href=\"\\1\">\\1</a>'\n",
    "replaceAll(find,replace)"
   ]
  },
  {
   "cell_type": "code",
   "execution_count": 36,
   "metadata": {},
   "outputs": [],
   "source": [
    "# fix broken youtube link\n",
    "\n",
    "find = '<a href=\"https://youtu.be/bsffWx5Kx_I?list=PL1G2CRcxbVQOnhvr1eG7ToK_wMvmHQFRR\"><span class=\"Hyperlink\"><a href=\"https://youtu.be/\">https://youtu.be/</a></span></a><span class=\"Hyperlink\">…</span>'\n",
    "replace = '<a href=\"https://youtu.be/bsffWx5Kx_I?list=PL1G2CRcxbVQOnhvr1eG7ToK_wMvmHQFRR\"><span class=\"Hyperlink\">https://youtu.be/…</span></a>'\n",
    "replaceAll(find,replace, reg = False)"
   ]
  },
  {
   "cell_type": "code",
   "execution_count": 37,
   "metadata": {},
   "outputs": [],
   "source": [
    "# add width autoclass to some images\n",
    "\n",
    "images = ['image/tabelle_symptome.jpg',\n",
    "          'image/GfK11_Kap_08_159.jpg',\n",
    "          'image/tweet_lauterbach.jpg',\n",
    "          'image/Corona_Sterblichkeit_NYC.jpg',\n",
    "          'image/Unterschrift_Re-Po.jpg',\n",
    "          'image/KV_blogbeitr_ge.jpg']\n",
    "\n",
    "for image in images:\n",
    "    find=r'img class=\"(.*?)\" src=\"'+image+'\"'\n",
    "    replace=r'img class=\"\\1 width-auto\" src=\"'+image+'\"'\n",
    "    replaceAll(find,replace)"
   ]
  },
  {
   "cell_type": "code",
   "execution_count": 38,
   "metadata": {},
   "outputs": [],
   "source": [
    "# delet image\n",
    "\n",
    "find = r'<div class=\"idGenObjectLayout-1\">\\s*<div id=\"idContainer218\" class=\"Standard_bild\">\\s*<img class=\"idGenObjectAttribute-1\" src=\"image/vitamin_c_cc0.jpg\" alt=\"\" />\\s*</div>\\s*</div>'\n",
    "replace = ''\n",
    "replaceAll(find,replace)"
   ]
  },
  {
   "cell_type": "code",
   "execution_count": 39,
   "metadata": {},
   "outputs": [
    {
     "data": {
      "text/plain": [
       "0"
      ]
     },
     "execution_count": 39,
     "metadata": {},
     "output_type": "execute_result"
    }
   ],
   "source": [
    "p = subprocess.Popen(['zip','-rX', \"../converted_\"+new_epub,'mimetype','META-INF/','OEBPS/'], cwd='new/')\n",
    "p.wait()"
   ]
  },
  {
   "cell_type": "code",
   "execution_count": 40,
   "metadata": {},
   "outputs": [],
   "source": [
    "# cleanup\n",
    "shutil.rmtree('new/')\n",
    "shutil.rmtree('old/')"
   ]
  }
 ],
 "metadata": {
  "kernelspec": {
   "display_name": "Python 3",
   "language": "python",
   "name": "python3"
  },
  "language_info": {
   "codemirror_mode": {
    "name": "ipython",
    "version": 3
   },
   "file_extension": ".py",
   "mimetype": "text/x-python",
   "name": "python",
   "nbconvert_exporter": "python",
   "pygments_lexer": "ipython3",
   "version": "3.7.3"
  }
 },
 "nbformat": 4,
 "nbformat_minor": 2
}
