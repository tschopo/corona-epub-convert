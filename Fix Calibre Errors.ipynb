{
 "cells": [
  {
   "cell_type": "code",
   "execution_count": 1,
   "metadata": {},
   "outputs": [],
   "source": [
    "import os\n",
    "import fnmatch\n",
    "import shutil\n",
    "import xml.etree.ElementTree as ET\n",
    "import glob\n",
    "from xml.dom import minidom\n",
    "import re\n",
    "import subprocess\n",
    "from PIL import Image, ImageChops"
   ]
  },
  {
   "cell_type": "code",
   "execution_count": 2,
   "metadata": {},
   "outputs": [],
   "source": [
    "def replaceAll(search, replace, files=[], reg = True, flags = re.I | re.M, no_titel = False):\n",
    "    \n",
    "    if not files:\n",
    "        files = glob.glob(\"new//OEBPS/*.xhtml\")\n",
    "    for file in files:\n",
    "             \n",
    "        if file == \"new//OEBPS/toc.xhtml\":\n",
    "            continue\n",
    "        if no_titel:\n",
    "            if (file == \"new//OEBPS/toc.xhtml\") or (file == \"new//OEBPS/cover.xhtml\") or file == \"new//OEBPS/titel_und_titelei.xhtml\" or file == \"new//OEBPS/impressum.xhtml\":\n",
    "                print(file)\n",
    "                continue\n",
    "            \n",
    "        content_new = \"\"\n",
    "        with open (file, 'r' ) as f:\n",
    "            content = f.read()\n",
    "            \n",
    "            if reg:\n",
    "                content_new = re.sub(search, replace, content, flags = flags)\n",
    "            else:\n",
    "                content_new = content.replace(search, replace)\n",
    "\n",
    "        with open (file, 'w' ) as f:\n",
    "            f.write(content_new)"
   ]
  },
  {
   "cell_type": "raw",
   "metadata": {},
   "source": [
    "# paste error log here\n",
    "error_string = \"\"\"\n",
    "WARNING: The linked resource 'image/alte_frau_impfung.png' does not exist    [OEBPS/Kapitel-1.xhtml]\n",
    "WARNING: The linked resource 'image/face_shield.png' does not exist    [OEBPS/Kapitel-2.xhtml]\n",
    "WARNING: The linked resource 'image/k3_skater.png' does not exist    [OEBPS/Kapitel-3.xhtml]\n",
    "WARNING: The linked resource 'image/k1_engel.png' does not exist    [OEBPS/Kapitel-3.xhtml]\n",
    "WARNING: The linked resource 'image/clinic_old.png' does not exist    [OEBPS/Kapitel-3.xhtml]\n",
    "WARNING: The linked resource 'image/k2_stern.png' does not exist    [OEBPS/Kapitel-4.xhtml]\n",
    "WARNING: The linked resource 'image/k1_engel.png' does not exist    [OEBPS/Kapitel-6.xhtml]\n",
    "WARNING: The linked resource 'image/k1_engel.png' does not exist    [OEBPS/Kapitel-6.xhtml]\n",
    "WARNING: The linked resource 'image/Kap_6.png' does not exist    [OEBPS/Kapitel-6.xhtml]\n",
    "WARNING: The linked resource 'image/k2_stern.png' does not exist    [OEBPS/Schlusswort.xhtml]\n",
    "WARNING: The linked resource 'image/k1_engel.png' does not exist    [OEBPS/Schlusswort.xhtml]\n",
    "WARNING: The linked resource 'image/k2_stern.png' does not exist    [OEBPS/Schlusswort.xhtml]\n",
    "WARNING: The file OEBPS/font/Roboto-Regular.otf has a MIME type that does not match its extension    [OEBPS/content.opf]\n",
    "WARNING: The file OEBPS/font/QuayItcT-Book.otf has a MIME type that does not match its extension    [OEBPS/content.opf]\n",
    "WARNING: The file OEBPS/font/Aleo-Italic.otf has a MIME type that does not match its extension    [OEBPS/content.opf]\n",
    "WARNING: The file OEBPS/font/Roboto-Light.otf has a MIME type that does not match its extension    [OEBPS/content.opf]\n",
    "WARNING: The file OEBPS/font/QuayItcT-BookItalic.otf has a MIME type that does not match its extension    [OEBPS/content.opf]\n",
    "WARNING: The file OEBPS/font/Aleo-Regular.otf has a MIME type that does not match its extension    [OEBPS/content.opf]\n",
    "WARNING: The file OEBPS/font/LiberationSerif-Italic.otf has a MIME type that does not match its extension    [OEBPS/content.opf]\n",
    "WARNING: The file OEBPS/font/PermanentMarker-Regular.otf has a MIME type that does not match its extension    [OEBPS/content.opf]\n",
    "WARNING: The file OEBPS/font/QuayItcT-Black.otf has a MIME type that does not match its extension    [OEBPS/content.opf]\n",
    "WARNING: The file OEBPS/font/QuayItcT-BoldItalic.otf has a MIME type that does not match its extension    [OEBPS/content.opf]\n",
    "WARNING: The file OEBPS/font/Aleo-Bold.otf has a MIME type that does not match its extension    [OEBPS/content.opf]\n",
    "WARNING: The file OEBPS/font/QuayItcT-Bold.otf has a MIME type that does not match its extension    [OEBPS/content.opf]\n",
    "WARNING: The file OEBPS/image/Seite_3_Illu_1.jpg is not referenced    [OEBPS/image/Seite_3_Illu_1.jpg]\n",
    "WARNING: The file OEBPS/image/k1_engel1.png is not referenced    [OEBPS/image/k1_engel1.png]\n",
    "WARNING: The file OEBPS/image/k2_stern1.png is not referenced    [OEBPS/image/k2_stern1.png]\n",
    "WARNING: The file OEBPS/image/k3_skater1.png is not referenced    [OEBPS/image/k3_skater1.png]\n",
    "WARNING: The file OEBPS/image/kitten-cc0.jpg is not referenced    [OEBPS/image/kitten-cc0.jpg]\n",
    "WARNING: The file OEBPS/image/street-art_statue_of_liberty_covid.jpg is not referenced    [OEBPS/image/street-art_statue_of_liberty_covid.jpg]\n",
    "WARNING: The file OEBPS/image/treppen.jpg is not referenced    [OEBPS/image/treppen.jpg]\n",
    "WARNING: The file OEBPS/image/vitamin_c_cc0.jpg is not referenced    [OEBPS/image/vitamin_c_cc0.jpg]\n",
    "WARNING: The file OEBPS/image/woman-wearing-face-mask-on-mountain.jpg is not referenced    [OEBPS/image/woman-wearing-face-mask-on-mountain.jpg]\n",
    "\"\"\""
   ]
  },
  {
   "cell_type": "code",
   "execution_count": 3,
   "metadata": {},
   "outputs": [],
   "source": [
    "# paste error log here\n",
    "error_string = \"\"\"\n",
    "WARNING: The link is empty    [OEBPS/Kapitel-3.xhtml]\n",
    "WARNING: The linked resource 'image/vitamin_c_cc0.png' does not exist    [OEBPS/Kapitel-6.xhtml]\n",
    "WARNING: The file OEBPS/font/Roboto-Regular.otf has a MIME type that does not match its extension    [OEBPS/content.opf]\n",
    "WARNING: The file OEBPS/font/QuayItcT-Book.otf has a MIME type that does not match its extension    [OEBPS/content.opf]\n",
    "WARNING: The file OEBPS/font/Aleo-Italic.otf has a MIME type that does not match its extension    [OEBPS/content.opf]\n",
    "WARNING: The file OEBPS/font/Roboto-Light.otf has a MIME type that does not match its extension    [OEBPS/content.opf]\n",
    "WARNING: The file OEBPS/font/QuayItcT-BookItalic.otf has a MIME type that does not match its extension    [OEBPS/content.opf]\n",
    "WARNING: The file OEBPS/font/Aleo-Regular.otf has a MIME type that does not match its extension    [OEBPS/content.opf]\n",
    "WARNING: The file OEBPS/font/LiberationSerif-Italic.otf has a MIME type that does not match its extension    [OEBPS/content.opf]\n",
    "WARNING: The file OEBPS/font/PermanentMarker-Regular.otf has a MIME type that does not match its extension    [OEBPS/content.opf]\n",
    "WARNING: The file OEBPS/font/QuayItcT-Black.otf has a MIME type that does not match its extension    [OEBPS/content.opf]\n",
    "WARNING: The file OEBPS/font/QuayItcT-BoldItalic.otf has a MIME type that does not match its extension    [OEBPS/content.opf]\n",
    "WARNING: The file OEBPS/font/Aleo-Bold.otf has a MIME type that does not match its extension    [OEBPS/content.opf]\n",
    "WARNING: The file OEBPS/font/QuayItcT-Bold.otf has a MIME type that does not match its extension    [OEBPS/content.opf]\n",
    "\"\"\""
   ]
  },
  {
   "cell_type": "code",
   "execution_count": 4,
   "metadata": {},
   "outputs": [],
   "source": [
    "old_epub = \"new.epub\"\n",
    "new_epub = \"converted_new.epub\"\n",
    "\n",
    "# teufel hier werden mit +1 oder ohne 1 ersetzt\n",
    "fix_teufel = [\"k2_stern.png\", \"k1_engel.png\", \"k3_skater.png\"]"
   ]
  },
  {
   "cell_type": "code",
   "execution_count": 5,
   "metadata": {},
   "outputs": [],
   "source": [
    "old_zip = os.path.splitext(old_epub)[0] + \".zip\"\n",
    "new_zip = os.path.splitext(new_epub)[0] + \".zip\"\n",
    "\n",
    "shutil.copy(new_epub, new_zip)\n",
    "shutil.copy(old_epub, old_zip)\n",
    "\n",
    "# extract the epubs\n",
    "os.system('unzip '+old_zip+' -d old')\n",
    "os.system('unzip '+new_zip+' -d new')\n",
    "\n",
    "os.remove(old_zip)\n",
    "os.remove(new_zip)"
   ]
  },
  {
   "cell_type": "code",
   "execution_count": 6,
   "metadata": {},
   "outputs": [],
   "source": [
    "# fix teufel\n",
    "\n",
    "for teufel in fix_teufel:\n",
    "    find=teufel\n",
    "    replace = teufel\n",
    "    \n",
    "    t = teufel.split(\".\")\n",
    "    \n",
    "    # if teufel with 1 at end, remove the 1\n",
    "    if t[0][-1] == \"1\":\n",
    "        replace = t[0][:-1] + \".\"+t[1]\n",
    "    else: # else add the 1\n",
    "        replace = t[0] + \"1\" + \".\" +t[1]\n",
    "    \n",
    "    replaceAll(replace,find, reg=False)\n",
    "\n",
    "# get all ressources that don't exist and copy to new epub"
   ]
  },
  {
   "cell_type": "code",
   "execution_count": 7,
   "metadata": {},
   "outputs": [],
   "source": [
    "errors = error_string.splitlines()"
   ]
  },
  {
   "cell_type": "code",
   "execution_count": 8,
   "metadata": {},
   "outputs": [],
   "source": [
    "opf = 'new/OEBPS/content.opf'\n",
    "\n",
    "non_exist_files = []\n",
    "with open (opf, 'r' ) as f:\n",
    "    content = f.read()\n",
    "    \n",
    "    for error in errors:\n",
    "\n",
    "        match = re.search(r\"WARNING: The linked resource \\'(.*?)\\' does not exist\",error)\n",
    "\n",
    "        if match:\n",
    "            file = match.group(1)\n",
    "                           \n",
    "            if file not in non_exist_files:\n",
    "\n",
    "                non_exist_files.append(file)\n",
    "\n",
    "                # copy the found recource from old to new\n",
    "\n",
    "                # if png, convert to jpeg\n",
    "                f = file.split('.')\n",
    "\n",
    "                filetype = f[-1]\n",
    "                if filetype.lower() == 'png':\n",
    "                    \n",
    "                    if file.split('/')[1] not in fix_teufel:\n",
    "                        os.system('convert old/OEBPS/' + file + ' new/OEBPS/' + f[0] + '.jpg')\n",
    "                        file_old = file\n",
    "                        file = f[0] + '.jpg'\n",
    "                        filetype = 'jpg'\n",
    "\n",
    "                        replaceAll(file_old,file, reg=False)\n",
    "                    else:\n",
    "                        shutil.copy('old/OEBPS/'+file,'new/OEBPS/'+file)\n",
    "\n",
    "                elif (filetype.lower() == 'jpg') or (filetype.lower() == 'jpeg'):\n",
    "                    shutil.copy('old/'+file,'new/'+file)\n",
    "                else:\n",
    "                    print(\"WARNING: \" + file + \" is not an image\")\n",
    "                    continue\n",
    "\n",
    "\n",
    "                # add the recources to content.opf\n",
    "                if filetype.lower() == 'jpg':\n",
    "                    filetype = 'jpeg'\n",
    "                opf_image = '<item id=\"'+file.split('/')[1]+'\" href=\"'+file+'\" media-type=\"image/'+filetype+'\"/>'\n",
    "                content = re.sub('properties=\"cover-image\"\\s*/>', 'properties=\"cover-image\"/>\\n\\t'+opf_image, content, flags = re.I | re.M)\n",
    "\n",
    "        # remove all recources that are no longer referenced\n",
    "        match = re.search(r\"WARNING: The file (.*?) is not referenced\",error)\n",
    "        if match:\n",
    "            file = match.group(1)\n",
    "            os.remove('new/'+file)\n",
    "            \n",
    "            # remove the recources to content.opf\n",
    "            f = file.split('.')\n",
    "            filetype = f[-1]\n",
    "            if filetype.lower() == 'jpg':\n",
    "                    filetype = 'jpeg'\n",
    "            \n",
    "            file = file[6:]\n",
    "            opf_image = '<item id=\"'+file.split('/')[-1]+'\" href=\"'+file+'\" media-type=\"image/'+filetype+'\"/>'\n",
    "            # content = re.sub(opf_image, '', content, flags = re.I | re.M)\n",
    "            content = content.replace(opf_image, '')\n",
    "            \n",
    "            print(opf_image)\n",
    "\n",
    "with open (opf, 'w' ) as f:\n",
    "    f.write(content)"
   ]
  },
  {
   "cell_type": "code",
   "execution_count": 9,
   "metadata": {},
   "outputs": [],
   "source": [
    "# crop all images so that no white border\n",
    "\n",
    "for file in glob.glob('new/OEBPS/image/*.jpg'):\n",
    "    \n",
    "    im=Image.open(file)\n",
    "    bg = Image.new(im.mode, im.size, (255,255,255))\n",
    "    diff = ImageChops.difference(im, bg)\n",
    "    #diff = ImageChops.add(diff, diff, 1.1, -5)\n",
    "    imageBox = diff.getbbox()\n",
    "    cropped = im.crop(imageBox)\n",
    "    if cropped.size != im.size:\n",
    "        cropped.save(file)"
   ]
  },
  {
   "cell_type": "code",
   "execution_count": 13,
   "metadata": {},
   "outputs": [
    {
     "data": {
      "text/plain": [
       "0"
      ]
     },
     "execution_count": 13,
     "metadata": {},
     "output_type": "execute_result"
    }
   ],
   "source": [
    "# create epub\n",
    "p = subprocess.Popen(['zip','-rX', \"../converted_\"+new_epub,'mimetype','META-INF/','OEBPS/'], cwd='new/')\n",
    "p.wait()"
   ]
  },
  {
   "cell_type": "code",
   "execution_count": 11,
   "metadata": {},
   "outputs": [],
   "source": [
    "# cleanup\n",
    "# shutil.rmtree('new/')\n",
    "shutil.rmtree('old/')"
   ]
  }
 ],
 "metadata": {
  "kernelspec": {
   "display_name": "Python 3",
   "language": "python",
   "name": "python3"
  },
  "language_info": {
   "codemirror_mode": {
    "name": "ipython",
    "version": 3
   },
   "file_extension": ".py",
   "mimetype": "text/x-python",
   "name": "python",
   "nbconvert_exporter": "python",
   "pygments_lexer": "ipython3",
   "version": "3.7.3"
  }
 },
 "nbformat": 4,
 "nbformat_minor": 2
}
